{
 "cells": [
  {
   "cell_type": "markdown",
   "metadata": {},
   "source": [
    "# Group By: SQL vs pandas\n"
   ]
  },
  {
   "cell_type": "markdown",
   "metadata": {},
   "source": [
    "Group by is an operation that works with aggregation functions (e.g. count, sum, min, max), to group queried data by a specific column.  Generally there is little difference between SQL and pandas, both functions have the same basic name.\n",
    "\n",
    "To practice the SQL queries use this [SQL Fiddle](http://sqlfiddle.com/#!9/43834e).  Schema modified from [Lekha Bhargavi's](https://github.com/gSchool/DSI_Lectures/tree/master/sql/lekha_bhargavi) lecture demo. "
   ]
  },
  {
   "cell_type": "markdown",
   "metadata": {},
   "source": [
    "## A simple GROUP BY in SQL:"
   ]
  },
  {
   "cell_type": "raw",
   "metadata": {},
   "source": [
    "SELECT customer_id,  COUNT(*)\n",
    "    FROM visits\n",
    "    GROUP BY customer_id;"
   ]
  },
  {
   "cell_type": "raw",
   "metadata": {},
   "source": [
    "customer_id\tCOUNT(*)\n",
    "1\t3\n",
    "2\t1\n",
    "3\t1"
   ]
  },
  {
   "cell_type": "markdown",
   "metadata": {},
   "source": [
    "## And the same .groupby() in pandas:"
   ]
  },
  {
   "cell_type": "code",
   "execution_count": 18,
   "metadata": {},
   "outputs": [
    {
     "data": {
      "text/plain": [
       "customer_id\n",
       "1    3\n",
       "2    1\n",
       "3    1\n",
       "Name: customer_id, dtype: int64"
      ]
     },
     "execution_count": 18,
     "metadata": {},
     "output_type": "execute_result"
    }
   ],
   "source": [
    "import pandas as pd\n",
    "visits = pd.read_csv('visits.csv')\n",
    "\n",
    "visits.groupby(by=['customer_id'])['customer_id'].count()"
   ]
  },
  {
   "cell_type": "markdown",
   "metadata": {},
   "source": [
    "In SQL, if you SELECT a column, it must be either one of the columns that the GROUP BY indexes on, or else you must include it in an aggregation statement.  Pandas is a little more loose-gosey, it will apply the aggregation function to the columns that it can and just drop the rest."
   ]
  },
  {
   "cell_type": "markdown",
   "metadata": {
    "collapsed": true
   },
   "source": [
    "## WHERE vs HAVING\n",
    "\n",
    "An explanation of [GROUP BY](https://www.w3schools.com/sql/sql_groupby.asp) in SQL requires consideration of the difference between the SQL [WHERE](https://www.w3schools.com/sql/sql_where.asp) and [HAVING](https://www.w3schools.com/sql/sql_having.asp) clauses.  \n",
    "\n",
    "In SQL WHERE is used to filter records, selecting only the records that meet a condition. For example:"
   ]
  },
  {
   "cell_type": "raw",
   "metadata": {},
   "source": [
    "SELECT name\n",
    "  FROM CUSTOMERS\n",
    "  WHERE gender ='F';"
   ]
  },
  {
   "cell_type": "raw",
   "metadata": {},
   "source": [
    "name\n",
    "becky\n",
    "sarah\n",
    "sam\n",
    "riley"
   ]
  },
  {
   "cell_type": "markdown",
   "metadata": {},
   "source": [
    "HAVING is used to filter aggregations. For example:"
   ]
  },
  {
   "cell_type": "raw",
   "metadata": {},
   "source": [
    "SELECT state, AVG(age)\n",
    "  FROM CUSTOMERS\n",
    "  WHERE gender ='F'\n",
    "  GROUP BY state\n",
    "  HAVING AVG(age) > 25;"
   ]
  },
  {
   "cell_type": "raw",
   "metadata": {},
   "source": [
    "state AVG(age)\n",
    "CA    40"
   ]
  },
  {
   "cell_type": "markdown",
   "metadata": {},
   "source": [
    "## Resources\n",
    "[Python docs: Group by](https://pandas.pydata.org/pandas-docs/stable/generated/pandas.DataFrame.groupby.html)\n",
    "\n",
    "[W3 School: Group by](https://www.w3schools.com/sql/sql_groupby.asp)\n",
    "\n",
    "[Pandas docs: Comparision with SQL](https://pandas.pydata.org/pandas-docs/stable/comparison_with_sql.html)\n",
    "\n",
    "[PostgreSQL vs. pandas — how to balance tasks between server and client side](https://medium.com/carwow-product-engineering/sql-vs-pandas-how-to-balance-tasks-between-server-and-client-side-9e2f6c95677)\n",
    "\n",
    "[Essential SQL - What is the difference between WHERE and HAVING clauses?](https://www.essentialsql.com/what-is-the-difference-between-where-and-having-clauses/)"
   ]
  }
 ],
 "metadata": {
  "kernelspec": {
   "display_name": "Python 3",
   "language": "python",
   "name": "python3"
  },
  "language_info": {
   "codemirror_mode": {
    "name": "ipython",
    "version": 3
   },
   "file_extension": ".py",
   "mimetype": "text/x-python",
   "name": "python",
   "nbconvert_exporter": "python",
   "pygments_lexer": "ipython3",
   "version": "3.6.1"
  }
 },
 "nbformat": 4,
 "nbformat_minor": 2
}
