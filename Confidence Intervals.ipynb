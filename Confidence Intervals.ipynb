{
 "cells": [
  {
   "cell_type": "markdown",
   "metadata": {},
   "source": [
    "# Confidence Intervals: Central Limit Theorem vs Bootstrapping \n",
    "\n",
    "A confidence interval is an interval estimate of a true value based on observed data. "
   ]
  },
  {
   "cell_type": "markdown",
   "metadata": {},
   "source": [
    "Compare and contrast CLT and bootstrapping confidence intervals.\n",
    "\n",
    "Sampling with replacement mimics what the population would look like\n",
    "Done by taking the same number of samples from the number of samples\n",
    "For x number of resamples, sort them and choose the the 2.5% and 97.5% average for a 95% CI\n",
    "CLT uses Z-table or just 1.96 for 95%\n",
    "X ± 1.96 × (σ/√ n)\n",
    "\n",
    "\n"
   ]
  }
 ],
 "metadata": {
  "kernelspec": {
   "display_name": "Python 3",
   "language": "python",
   "name": "python3"
  },
  "language_info": {
   "codemirror_mode": {
    "name": "ipython",
    "version": 3
   },
   "file_extension": ".py",
   "mimetype": "text/x-python",
   "name": "python",
   "nbconvert_exporter": "python",
   "pygments_lexer": "ipython3",
   "version": "3.6.1"
  }
 },
 "nbformat": 4,
 "nbformat_minor": 2
}
