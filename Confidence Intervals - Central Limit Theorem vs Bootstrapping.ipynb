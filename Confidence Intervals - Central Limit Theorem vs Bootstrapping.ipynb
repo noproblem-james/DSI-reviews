{
 "cells": [
  {
   "cell_type": "markdown",
   "metadata": {},
   "source": [
    "# Confidence Intervals - Central Limit Theorem vs Bootstrapping "
   ]
  },
  {
   "cell_type": "markdown",
   "metadata": {},
   "source": [
    "## Confidence Interval\n",
    "\n",
    "A [confidence interval](https://en.wikipedia.org/wiki/Confidence_interval) is a type of [interval estimate](https://en.wikipedia.org/wiki/Interval_estimation) (of a population parameter $\\mu$) that is computed from the observed data.\n",
    "\n",
    "Confidence intervals consist of a range of values that act as good estimates of the unknown population parameter. However, **the interval computed from a particular sample does not necessarily include the true value of the parameter.**\n",
    "\n",
    "The confidence level is the proportion of possible confidence intervals that contain the true value of their corresponding parameter."
   ]
  },
  {
   "attachments": {
    "confidence_interval.gif": {
     "image/gif": "[encoded data removed]"
    }
   },
   "cell_type": "markdown",
   "metadata": {},
   "source": [
    "![confidence_interval.gif](attachment:confidence_interval.gif)"
   ]
  },
  {
   "cell_type": "markdown",
   "metadata": {},
   "source": [
    "**Confidence intervals only assess sampling error** in relation to the parameter of interest. (Sampling error is simply the error inherent when trying to estimate the characteristic of an entire population from a sample.) Consequently, you should be aware of these important considerations:\n",
    "\n",
    "As you increase the sample size, the sampling error decreases and the intervals become narrower. If you could increase the sample size to equal the population, there would be no sampling error. In this case, the confidence interval would have a width of zero and be equal to the true population parameter."
   ]
  },
  {
   "cell_type": "markdown",
   "metadata": {},
   "source": [
    "## Central Limit Theorem\n",
    "\n",
    "The [central limit theorem](https://en.wikipedia.org/wiki/Central_limit_theorem) tells us that if the sample size n is \"sufficiently large\", the sampling distribution of the sample mean is approximately normally distributed, regardless of the distribution of the underlying random sample.  n=30 is a generally accepted guideline for \"sufficently large\"."
   ]
  },
  {
   "cell_type": "markdown",
   "metadata": {},
   "source": [
    "To be able to construct a confidence interval, we need to be able to assume a distribution.  "
   ]
  },
  {
   "cell_type": "markdown",
   "metadata": {},
   "source": [
    "Compare and contrast CLT and bootstrapping confidence intervals.\n",
    "\n",
    "Sampling with replacement mimics what the population would look like\n",
    "Done by taking the same number of samples from the number of samples\n",
    "For x number of resamples, sort them and choose the the 2.5% and 97.5% average for a 95% CI\n",
    "CLT uses Z-table or just 1.96 for 95%\n",
    "X ± 1.96 × (σ/√ n)\n",
    "\n",
    "\n"
   ]
  },
  {
   "cell_type": "markdown",
   "metadata": {},
   "source": [
    "## Resources\n",
    "[Penn State Stats 506 - Sampling Theory and Methods: Confidence Intervals and the Central Limit Theorem](https://onlinecourses.science.psu.edu/stat506/node/8)\n",
    "\n",
    "[Penn State Stats 414 - Probability Theory and Mathematical Statistics: Central Limit Theorem](https://onlinecourses.science.psu.edu/stat414/node/176)\n",
    "\n",
    "[The Minitab Blog - When Should I Use Confidence Intervals, Prediction Intervals, and Tolerance Intervals](http://blog.minitab.com/blog/adventures-in-statistics-2/when-should-i-use-confidence-intervals-prediction-intervals-and-tolerance-intervals)\n"
   ]
  }
 ],
 "metadata": {
  "kernelspec": {
   "display_name": "Python 3",
   "language": "python",
   "name": "python3"
  },
  "language_info": {
   "codemirror_mode": {
    "name": "ipython",
    "version": 3
   },
   "file_extension": ".py",
   "mimetype": "text/x-python",
   "name": "python",
   "nbconvert_exporter": "python",
   "pygments_lexer": "ipython3",
   "version": "3.6.1"
  }
 },
 "nbformat": 4,
 "nbformat_minor": 2
}
